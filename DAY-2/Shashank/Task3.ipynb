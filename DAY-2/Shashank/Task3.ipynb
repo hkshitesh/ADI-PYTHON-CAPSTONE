{
 "cells": [
  {
   "cell_type": "code",
   "execution_count": 1,
   "id": "bdb819be-c33a-4a45-b42f-b428e99f497c",
   "metadata": {},
   "outputs": [],
   "source": [
    "my_tuple = (5, 10, 15, 20, 25)"
   ]
  },
  {
   "cell_type": "code",
   "execution_count": 2,
   "id": "5ae4c94b-eda8-43f7-85d1-c166460349f6",
   "metadata": {},
   "outputs": [],
   "source": [
    "element_at_idx_2 = my_tuple[2]"
   ]
  },
  {
   "cell_type": "code",
   "execution_count": 3,
   "id": "a788c0d3-d350-401b-be05-a6a2d84ee2ff",
   "metadata": {},
   "outputs": [
    {
     "name": "stdout",
     "output_type": "stream",
     "text": [
      "15\n"
     ]
    }
   ],
   "source": [
    "print(element_at_idx_2)"
   ]
  },
  {
   "cell_type": "code",
   "execution_count": 4,
   "id": "49e7a936-1162-428c-9f78-47b31977075e",
   "metadata": {},
   "outputs": [
    {
     "name": "stdout",
     "output_type": "stream",
     "text": [
      "No\n"
     ]
    }
   ],
   "source": [
    "if 17 in my_tuple:\n",
    "    print(\"yes\")\n",
    "else:\n",
    "    print(\"No\")"
   ]
  },
  {
   "cell_type": "code",
   "execution_count": 5,
   "id": "7b6f7bf9-12b4-493d-970e-b9de2af3daae",
   "metadata": {},
   "outputs": [],
   "source": [
    "from collections import namedtuple"
   ]
  },
  {
   "cell_type": "code",
   "execution_count": 6,
   "id": "32caab5e-8be3-403e-bf37-befb9092899e",
   "metadata": {},
   "outputs": [],
   "source": [
    "Coord = namedtuple('Point', ['x' ,'y'])\n",
    "Point = Coord(3,4)\n"
   ]
  },
  {
   "cell_type": "code",
   "execution_count": 7,
   "id": "d652514a-59c8-43c7-8c14-12ddf9c4d2f1",
   "metadata": {},
   "outputs": [
    {
     "name": "stdout",
     "output_type": "stream",
     "text": [
      "X :  3\n",
      "Y :  4\n"
     ]
    }
   ],
   "source": [
    "print(\"X : \", Point.x)\n",
    "print(\"Y : \", Point.y)"
   ]
  },
  {
   "cell_type": "code",
   "execution_count": null,
   "id": "fc18edce-0ba8-450e-a2cc-783f11a0dbe5",
   "metadata": {},
   "outputs": [],
   "source": []
  }
 ],
 "metadata": {
  "kernelspec": {
   "display_name": "Python 3 (ipykernel)",
   "language": "python",
   "name": "python3"
  },
  "language_info": {
   "codemirror_mode": {
    "name": "ipython",
    "version": 3
   },
   "file_extension": ".py",
   "mimetype": "text/x-python",
   "name": "python",
   "nbconvert_exporter": "python",
   "pygments_lexer": "ipython3",
   "version": "3.12.0"
  }
 },
 "nbformat": 4,
 "nbformat_minor": 5
}
