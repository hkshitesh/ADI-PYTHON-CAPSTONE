{
 "cells": [
  {
   "cell_type": "code",
   "execution_count": 1,
   "id": "ae0f23c9-7192-4473-a09e-e3b34baa4133",
   "metadata": {},
   "outputs": [],
   "source": [
    "my_list = [3, 6, 9, 12, 15]"
   ]
  },
  {
   "cell_type": "code",
   "execution_count": 2,
   "id": "e283a089-e01b-4370-b9fd-c2af41709ecd",
   "metadata": {},
   "outputs": [],
   "source": [
    "my_list.append(18)"
   ]
  },
  {
   "cell_type": "code",
   "execution_count": 3,
   "id": "c74585b0-6a3d-4976-9de5-e01832cb8f39",
   "metadata": {},
   "outputs": [],
   "source": [
    "my_list[2] = 7"
   ]
  },
  {
   "cell_type": "code",
   "execution_count": 4,
   "id": "aaa7c1d8-a066-42d6-96be-e45a949514d0",
   "metadata": {},
   "outputs": [],
   "source": [
    "my_list.remove(12)"
   ]
  },
  {
   "cell_type": "code",
   "execution_count": 5,
   "id": "ca6d0fd0-edb1-4746-aa3d-7468972645a8",
   "metadata": {},
   "outputs": [
    {
     "name": "stdout",
     "output_type": "stream",
     "text": [
      "[3, 6, 7, 15, 18]\n"
     ]
    }
   ],
   "source": [
    "print(my_list)"
   ]
  },
  {
   "cell_type": "code",
   "execution_count": 6,
   "id": "dcaaf082-beed-4fd8-b153-6ebf3acc65aa",
   "metadata": {},
   "outputs": [],
   "source": [
    "student_info = {'name': 'Alice', 'age': 20, 'major': 'Computer Science'}"
   ]
  },
  {
   "cell_type": "code",
   "execution_count": 7,
   "id": "b8b12293-41c0-4113-b9c1-af6961b4e484",
   "metadata": {},
   "outputs": [],
   "source": [
    "student_info['gpa'] = '3.5'"
   ]
  },
  {
   "cell_type": "code",
   "execution_count": 8,
   "id": "60095ea6-f1e1-4ac7-82e6-debf75b8ce46",
   "metadata": {},
   "outputs": [
    {
     "name": "stdout",
     "output_type": "stream",
     "text": [
      "Age is present\n"
     ]
    }
   ],
   "source": [
    "if 'age' in student_info.keys():\n",
    "    print('Age is present')"
   ]
  },
  {
   "cell_type": "code",
   "execution_count": 9,
   "id": "30f61768-b4e5-4196-960f-8bdbb209ff3e",
   "metadata": {},
   "outputs": [
    {
     "name": "stdout",
     "output_type": "stream",
     "text": [
      "dict_keys(['name', 'age', 'major', 'gpa'])\n"
     ]
    }
   ],
   "source": [
    "print(student_info.keys())"
   ]
  },
  {
   "cell_type": "code",
   "execution_count": 10,
   "id": "efe015ed-fa95-4ac7-9f42-a174e7559f7f",
   "metadata": {},
   "outputs": [],
   "source": [
    "set1 = {1, 2, 3, 4, 5} "
   ]
  },
  {
   "cell_type": "code",
   "execution_count": 11,
   "id": "f800d649-72f3-4b14-8724-b8bad76a8358",
   "metadata": {},
   "outputs": [],
   "source": [
    "set2 = {4, 5, 6, 7, 8}"
   ]
  },
  {
   "cell_type": "code",
   "execution_count": 12,
   "id": "631d8f64-3f6c-4608-9268-5fc9451a5897",
   "metadata": {},
   "outputs": [],
   "source": [
    "uinon_set = set1.union(set2)"
   ]
  },
  {
   "cell_type": "code",
   "execution_count": 14,
   "id": "2cce8739-9975-42a9-9425-784a54b0e725",
   "metadata": {},
   "outputs": [
    {
     "name": "stdout",
     "output_type": "stream",
     "text": [
      "{1, 2, 3, 4, 5, 6, 7, 8}\n"
     ]
    }
   ],
   "source": [
    "print(uinon_set)"
   ]
  },
  {
   "cell_type": "code",
   "execution_count": 15,
   "id": "c5e26587-aedc-499f-8d48-ccf3d6beb350",
   "metadata": {},
   "outputs": [],
   "source": [
    "inter_set = set1.intersection(set2)"
   ]
  },
  {
   "cell_type": "code",
   "execution_count": 16,
   "id": "5d5ae308-aaf0-4fc1-992a-0cb0d9d6736a",
   "metadata": {},
   "outputs": [
    {
     "name": "stdout",
     "output_type": "stream",
     "text": [
      "{4, 5}\n"
     ]
    }
   ],
   "source": [
    "print(inter_set)"
   ]
  },
  {
   "cell_type": "code",
   "execution_count": 17,
   "id": "9138544d-8894-4995-824b-5089085660d4",
   "metadata": {},
   "outputs": [],
   "source": [
    "diff_set = set1.difference(set2)"
   ]
  },
  {
   "cell_type": "code",
   "execution_count": 18,
   "id": "7f078193-cf0f-481a-968b-0342ce22100c",
   "metadata": {},
   "outputs": [
    {
     "name": "stdout",
     "output_type": "stream",
     "text": [
      "{1, 2, 3}\n"
     ]
    }
   ],
   "source": [
    "print(diff_set)"
   ]
  },
  {
   "cell_type": "code",
   "execution_count": null,
   "id": "dcb2bdc2-6a94-40b8-a032-44958fc467c3",
   "metadata": {},
   "outputs": [],
   "source": []
  }
 ],
 "metadata": {
  "kernelspec": {
   "display_name": "Python 3 (ipykernel)",
   "language": "python",
   "name": "python3"
  },
  "language_info": {
   "codemirror_mode": {
    "name": "ipython",
    "version": 3
   },
   "file_extension": ".py",
   "mimetype": "text/x-python",
   "name": "python",
   "nbconvert_exporter": "python",
   "pygments_lexer": "ipython3",
   "version": "3.12.0"
  }
 },
 "nbformat": 4,
 "nbformat_minor": 5
}
